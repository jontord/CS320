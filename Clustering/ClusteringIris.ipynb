{
 "cells": [
  {
   "cell_type": "markdown",
   "metadata": {},
   "source": [
    "# Clustering\n",
    "\n",
    "See our notes on [unsupervised learning](https://jennselby.github.io/MachineLearningCourseNotes/#unsupervised-learning), [K-means](https://jennselby.github.io/MachineLearningCourseNotes/#k-means-clustering), [DBSCAN](https://jennselby.github.io/MachineLearningCourseNotes/#dbscan-clustering), and [clustering validation](https://jennselby.github.io/MachineLearningCourseNotes/#clustering-validation).\n",
    "\n",
    "For documentation of various clustering methods in scikit-learn, see http://scikit-learn.org/stable/modules/clustering.html\n",
    "\n",
    "The code was based on the example at http://scikit-learn.org/stable/auto_examples/cluster/plot_cluster_iris.html\n",
    "which has the following comments:\n",
    "\n",
    "Code source: Gaël Varoquaux<br/>\n",
    "Modified for documentation by Jaques Grobler<br/>\n",
    "License: BSD 3 clause"
   ]
  },
  {
   "cell_type": "code",
   "execution_count": null,
   "metadata": {},
   "outputs": [],
   "source": [
    "%matplotlib inline\n",
    "import numpy\n",
    "import matplotlib.pyplot\n",
    "\n",
    "from mpl_toolkits.mplot3d import Axes3D #3d plot\n",
    "\n",
    "from sklearn.cluster import KMeans #k-means clustering\n",
    "from sklearn import datasets #sklearn generated datasets\n",
    "\n",
    "import pandas as pd"
   ]
  },
  {
   "cell_type": "markdown",
   "metadata": {},
   "source": [
    "## Iris Dataset\n",
    "\n",
    "Before you go on, if you haven't used the iris dataset in a previous assignment, make sure you understand it. Modify the cell below to examine different parts of the dataset that are contained in the iris dictionary object.\n",
    "\n",
    "What are the features? What are we trying to classify?"
   ]
  },
  {
   "cell_type": "code",
   "execution_count": null,
   "metadata": {},
   "outputs": [],
   "source": [
    "iris = datasets.load_iris()\n",
    "wine = datasets.load_wine()\n",
    "iris.keys()\n",
    "wine.keys()"
   ]
  },
  {
   "cell_type": "code",
   "execution_count": null,
   "metadata": {},
   "outputs": [],
   "source": [
    "iris_df = pd.DataFrame(iris.data)\n",
    "iris_df.columns = iris.feature_names\n",
    "iris_df.head()\n",
    "\n",
    "wine_df = pd.DataFrame(wine.data)\n",
    "wine_df.columns = wine.feature_names\n",
    "wine_df.head()"
   ]
  },
  {
   "cell_type": "code",
   "execution_count": null,
   "metadata": {},
   "outputs": [],
   "source": [
    "iris_df.head()"
   ]
  },
  {
   "cell_type": "markdown",
   "metadata": {},
   "source": [
    "## Visualization Setup"
   ]
  },
  {
   "cell_type": "code",
   "execution_count": null,
   "metadata": {},
   "outputs": [],
   "source": [
    "#each feature of wine represents an axis in cartesian coordinates\n",
    "#I will plot alcohol, color, and magnesium\n",
    "\n",
    "X_FEATURE = 'ash' \n",
    "Y_FEATURE = 'color_intensity' \n",
    "Z_FEATURE = 'magnesium'\n",
    "\n",
    "NUM_COLS = 4\n",
    "NUM_ROWS = 6\n",
    "FIG_WIDTH = 4 * NUM_COLS\n",
    "FIG_HEIGHT = 3 * NUM_ROWS\n",
    "\n",
    "def add_plot(figure, subplot_num, subplot_name, data, labels):\n",
    "\n",
    "    axis = figure.add_subplot(NUM_ROWS, NUM_COLS, subplot_num, projection='3d',\n",
    "                              elev=48, azim=134)\n",
    "\n",
    "    axis.scatter(data[X_FEATURE], data[Y_FEATURE], data[Z_FEATURE], c=labels)\n",
    "\n",
    "    for axis_obj in [axis.w_xaxis, axis.w_yaxis, axis.w_zaxis]:\n",
    "        axis_obj.set_ticklabels([])\n",
    "\n",
    "    axis.title.set_text(subplot_name)"
   ]
  },
  {
   "cell_type": "markdown",
   "metadata": {},
   "source": [
    "## Visualization\n",
    "\n",
    "This is the correct labeling, based on the targets."
   ]
  },
  {
   "cell_type": "code",
   "execution_count": null,
   "metadata": {},
   "outputs": [],
   "source": [
    "truth_figure = matplotlib.pyplot.figure(figsize=(FIG_WIDTH, FIG_HEIGHT))\n",
    "\n",
    "# Plot the ground truth\n",
    "add_plot(truth_figure, 1, \"Ground Truth\", iris_df, iris.target)"
   ]
  },
  {
   "cell_type": "markdown",
   "metadata": {},
   "source": [
    "## Training and Visualization\n",
    "\n",
    "Now let's see how k-means clusters the iris dataset, with various different numbers of clusters"
   ]
  },
  {
   "cell_type": "code",
   "execution_count": null,
   "metadata": {},
   "outputs": [],
   "source": [
    "MAX_CLUSTERS = 10\n",
    "# start a new figure to hold all of the subplots\n",
    "kmeans_figure = matplotlib.pyplot.figure(figsize=(FIG_WIDTH, FIG_HEIGHT))\n",
    "\n",
    "# Plot the ground truth\n",
    "add_plot(kmeans_figure, 1, \"Ground Truth\", iris_df, iris.target)\n",
    "\n",
    "plot_num = 2\n",
    "for num_clusters in range(2, MAX_CLUSTERS + 1):\n",
    "    # train the model\n",
    "    model = KMeans(n_clusters=num_clusters)\n",
    "    model.fit(iris_df)\n",
    "    \n",
    "    # get the predictions of which cluster each input is in\n",
    "    labels = model.labels_\n",
    "\n",
    "    # plot this clustering\n",
    "    title = '{} Clusters'.format(num_clusters) \n",
    "    add_plot(kmeans_figure, plot_num, title, iris_df, labels.astype(numpy.float))\n",
    "    plot_num += 1"
   ]
  },
  {
   "cell_type": "markdown",
   "metadata": {},
   "source": [
    "# Exercise\n",
    "\n",
    "1. Add [validation](https://jennselby.github.io/MachineLearningCourseNotes/#clustering-validation) to measure how good the clustering is, with different numbers of clusters.\n",
    "1. Run the iris data through DBSCAN or hierarchical clustering and validate that as well.\n",
    "1. Comment on the validation results, explaining which models did best and why you think that might be."
   ]
  },
  {
   "cell_type": "code",
   "execution_count": null,
   "metadata": {},
   "outputs": [],
   "source": [
    "# your code here"
   ]
  }
 ],
 "metadata": {
  "kernelspec": {
   "display_name": "Python 3",
   "language": "python",
   "name": "python3"
  },
  "language_info": {
   "codemirror_mode": {
    "name": "ipython",
    "version": 3
   },
   "file_extension": ".py",
   "mimetype": "text/x-python",
   "name": "python",
   "nbconvert_exporter": "python",
   "pygments_lexer": "ipython3",
   "version": "3.7.4"
  }
 },
 "nbformat": 4,
 "nbformat_minor": 2
}
