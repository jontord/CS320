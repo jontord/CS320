{
 "cells": [
  {
   "cell_type": "code",
   "execution_count": 2,
   "metadata": {},
   "outputs": [],
   "source": [
    "#For this clustering project, I will attempt to complete option 1, 2, and 3/4. 3 and 4 are combined because I will attempt\n",
    "#run a clustering algorithm on a different dataset while also attempting to implement an algorithm myself. I also plan\n",
    "#to export the file as an application in the future if I have time. \n",
    "\n",
    "#I plan to: \n",
    "\n",
    "#Complete the exercise (Option 2)\n",
    "#Complete Option 1\n",
    "#Try to implement K-means myself with a 2D plot (mostly matplotlib and numpy)"
   ]
  },
  {
   "cell_type": "code",
   "execution_count": 1,
   "metadata": {},
   "outputs": [],
   "source": [
    "#I completed the exercise and the link to the github repo is below: \n",
    "\n",
    "#https://github.com/jontord/CS320/blob/master/Clustering/ClusteringIris.ipynb\n",
    "\n",
    "#I made my own edits to this project and tested the wine dataset, a different dataset provided by sklearn. Although\n",
    "#this may seem to be a version of the fourth option which is of advanced difficulty, I'll be creating a separate \n",
    "#project in the future which also does this as well. \n",
    "\n",
    "#I created several functions which attempt to \"optimize\" the DBSCAN algorithm and plot the figures"
   ]
  },
  {
   "cell_type": "code",
   "execution_count": 1,
   "metadata": {},
   "outputs": [],
   "source": [
    "#Option 1: Visualizing K-Means and DBSCAN\n",
    "\n",
    "#After working with the visualizations for several minutes, it became clear which ones were more advantageous to \n",
    "#use in certain scenarios. Hyperparameters significantly affect this selection process between the two algorithms, \n",
    "#and often times the decision is quite obvious. For example, if it is clear to the programmer that there are a large\n",
    "#collection of clusters distributed throughout a plane, then it would be naive to use the K-means clustering algorithm. \n",
    "#This is because K-means relies on the placement of centroids throughout a plane, and if there are countless datapoints\n",
    "#evenly dispersed, it would be advantageous to use the alternative method of DBSCAN. DBSCAN is useful because it allows\n",
    "#the programmer to set the hyperparameters for \"epsilon\" or the distance the algorithm extends beyond a point to form\n",
    "#a cluster with other nearby points. DBSCAN also allows the programmer to set the minimum amount of points that must\n",
    "#be contained within the epsilon distance. Although DBSCAN is useful for these cases, it requires the programmer to \n",
    "#set two hyperparameters, while K-means only involves one. If the user wants to run these algorithms unsupervised, \n",
    "#there will need to be a considerable amount of validation involved with the DBSCAN method as there are many more \n",
    "#permutations of possible hyperparameters that will impact the end result. However, when supervised, the DBSCAN method\n",
    "#is far more effective than K-means. For example, when given a picture of a \"smiley face,\" DBSCAN parses through each\n",
    "#and every datapoint on the plane, slowly creating separate clusters which slowly grow in size. If this is done after\n",
    "#settting reasonable hyperparameters (meaning setting hyperparameters which should generally not be impossible, such\n",
    "#avoiding the use of a minisclue epsilon and an excessive amount of minimum points per cluster), DBSCAN will almost \n",
    "#always correctly cluster in an efficient and reliable manner. However, if K-means is used, it is highly unlikely and \n",
    "#virtually impossible that it will cluster the datapoints correctly. Because K-means relies on taking the distance \n",
    "#between each datapoint after setting centroids, and the \"expression\" of the smiley face is contained within a circular\n",
    "#cluster, it is impossible to correctly group the datapoints in their separate clusters with any configuration of \n",
    "#centroids, regardless of whether or not this hyperparameter is randomly generated or decided by the programmer. "
   ]
  },
  {
   "cell_type": "code",
   "execution_count": 2,
   "metadata": {},
   "outputs": [],
   "source": [
    "#Now I will attempt to implement the K-means algorithm myself. I'll be using the video below as a reference as well as\n",
    "#the provided CS320 notes. \n",
    "\n",
    "#Source: https://www.youtube.com/watch?v=4b5d3muPQmA"
   ]
  },
  {
   "cell_type": "code",
   "execution_count": 3,
   "metadata": {},
   "outputs": [],
   "source": [
    "import matplotlib.pyplot as plt\n",
    "import pandas as pd\n",
    "import numpy as np"
   ]
  },
  {
   "cell_type": "code",
   "execution_count": null,
   "metadata": {},
   "outputs": [],
   "source": []
  }
 ],
 "metadata": {
  "kernelspec": {
   "display_name": "Python 3",
   "language": "python",
   "name": "python3"
  },
  "language_info": {
   "codemirror_mode": {
    "name": "ipython",
    "version": 3
   },
   "file_extension": ".py",
   "mimetype": "text/x-python",
   "name": "python",
   "nbconvert_exporter": "python",
   "pygments_lexer": "ipython3",
   "version": "3.7.4"
  }
 },
 "nbformat": 4,
 "nbformat_minor": 2
}
