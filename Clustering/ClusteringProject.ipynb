{
 "cells": [
  {
   "cell_type": "code",
   "execution_count": 2,
   "metadata": {},
   "outputs": [],
   "source": [
    "#For this clustering project, I will attempt to complete option 1, 2, and 3/4. 3 and 4 are combined because I will attempt\n",
    "#run a clustering algorithm on a different dataset while also attempting to implement an algorithm myself. I also plan\n",
    "#to export the file as an application in the future if I have time. \n",
    "\n",
    "#I plan to: \n",
    "\n",
    "#Complete the exercise (Option 2)\n",
    "#Complete Option 1\n",
    "#Complete Option 3/4\n",
    "#Export file as an application"
   ]
  },
  {
   "cell_type": "code",
   "execution_count": null,
   "metadata": {},
   "outputs": [],
   "source": [
    "#I completed the exercise and the link to the github repo is below: \n",
    "\n"
   ]
  },
  {
   "cell_type": "code",
   "execution_count": null,
   "metadata": {},
   "outputs": [],
   "source": [
    "#Option 1: Visualizing K-Means and DBSCAN\n",
    "\n",
    "#After working with the visualizations for several minutes, it became clear which ones were more advantageous to \n",
    "#use in certain scenarios. Hyperparameters significantly affect this selection process between the two algorithms, \n",
    "#and often times the decision is quite obvious. For example, if it is clear to the programmer that there are a large\n",
    "#collection of clusters distributed throughout a plane, then it would be naive to use the K-means clustering algorithm. \n",
    "#This is because K-means relies on the placement of centroids throughout a plane, and if there are countless datapoints\n",
    "#evenly dispersed, it would be advantageous to use the alternative method of DBSCAN. DBSCAN is useful because it allows\n",
    "#the programmer to set the hyperparameters for \"epsilon\" or the distance the algorithm extends beyond a point to form\n",
    "#a cluster with other nearby points. DBSCAN also allows the programmer to set the minimum amount of points that must\n",
    "#be contained within the epsilon distance. Although DBSCAN is useful for these cases, it requires the programmer to \n",
    "#set two hyperparameters, while K-means only involves one. If the user wants to run these algorithms unsupervised, \n",
    "#there will need to be a considerable amount of validation involved with the DBSCAN method as there are many more \n",
    "#permutations of possible hyperparameters that will impact the end result. However, when supervised, the DBSCAN method\n",
    "#is far more effective than K-means. For example, when given a picture of a \"smiley face,\" "
   ]
  }
 ],
 "metadata": {
  "kernelspec": {
   "display_name": "Python 3",
   "language": "python",
   "name": "python3"
  },
  "language_info": {
   "codemirror_mode": {
    "name": "ipython",
    "version": 3
   },
   "file_extension": ".py",
   "mimetype": "text/x-python",
   "name": "python",
   "nbconvert_exporter": "python",
   "pygments_lexer": "ipython3",
   "version": "3.7.4"
  }
 },
 "nbformat": 4,
 "nbformat_minor": 2
}
